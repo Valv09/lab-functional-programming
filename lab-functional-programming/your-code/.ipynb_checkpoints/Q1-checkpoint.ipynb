{
 "cells": [
  {
   "cell_type": "markdown",
   "metadata": {},
   "source": [
    "In the cell below, create a Python function that wraps your previous solution for the Bag of Words lab.\n",
    "\n",
    "Requirements:\n",
    "\n",
    "1. Your function should accept the following parameters:\n",
    "    * `docs` [REQUIRED] - array of document paths.\n",
    "    * `stop_words` [OPTIONAL] - array of stop words. The default value is an empty array.\n",
    "\n",
    "1. Your function should return a Python object that contains the following:\n",
    "    * `bag_of_words` - array of strings of normalized unique words in the corpus.\n",
    "    * `term_freq` - array of the term-frequency vectors."
   ]
  },
  {
   "cell_type": "code",
   "execution_count": 3,
   "metadata": {},
   "outputs": [],
   "source": [
    "# Import required libraries\n",
    "\n",
    "import pandas as pd\n",
    "import numpy as np\n",
    "import re\n",
    "\n",
    "# Define function\n",
    "def get_bow_from_docs(docs, stop_words=[]):\n",
    "    \n",
    "    # In the function, first define the variables you will use such as `corpus`, `bag_of_words`, and `term_freq`.\n",
    "   \n",
    "    corpus = []\n",
    "    bag_of_words = []\n",
    "    term_freq = []\n",
    "    freq_sub = []\n",
    "    \n",
    "    \"\"\"\n",
    "    Loop `docs` and read the content of each doc into a string in `corpus`.\n",
    "    Remember to convert the doc content to lowercases and remove punctuation.\n",
    "    \"\"\"\n",
    "    \n",
    "    for i in docs:\n",
    "        proof = list(pd.read_csv(f'C:/Users/irvg/Documents/Valeria/string-operations/your-code/{i}'))\n",
    "        proof = ''.join(proof)\n",
    "        proof = proof.lower()\n",
    "        corpus.append(proof)\n",
    "        corpus = [re.sub('[^A-Za-z0-9 ]+','', i) for i in corpus]\n",
    "    \"\"\"\n",
    "    Loop `corpus`. Append the terms in each doc into the `bag_of_words` array. The terms in `bag_of_words` \n",
    "    should be unique which means before adding each term you need to check if it's already added to the array.\n",
    "    In addition, check if each term is in the `stop_words` array. Only append the term to `bag_of_words`\n",
    "    if it is not a stop word.\n",
    "    \"\"\"\n",
    "\n",
    "    for i in corpus:\n",
    "        corpus_sub = re.split(' ',i)\n",
    "        for si in corpus_sub:\n",
    "            if si not in bag_of_words and si not in stop_words:\n",
    "                bag_of_words.append(si)\n",
    "    \n",
    "    \n",
    "    \"\"\"\n",
    "    Loop `corpus` again. For each doc string, count the number of occurrences of each term in `bag_of_words`. \n",
    "    Create an array for each doc's term frequency and append it to `term_freq`.\n",
    "    \"\"\"\n",
    "    for i in corpus:\n",
    "        corpus_sub = re.split(' ',i)\n",
    "        for i in bag_of_words:\n",
    "            if i in corpus_sub:\n",
    "                freq_sub.append(1)\n",
    "            else:\n",
    "                freq_sub.append(0)\n",
    "        term_freq.append(freq_sub)\n",
    "        freq_sub = []\n",
    "    \n",
    "    \n",
    "    # Now return your output as an object\n",
    "    return {\n",
    "        \"bag_of_words\": bag_of_words,\n",
    "        \"term_freq\": term_freq\n",
    "    }\n",
    "    "
   ]
  },
  {
   "cell_type": "markdown",
   "metadata": {},
   "source": [
    "Test your function without stop words. You should see the output like below:\n",
    "\n",
    "```{'bag_of_words': ['ironhack', 'is', 'cool', 'i', 'love', 'am', 'a', 'student', 'at'], 'term_freq': [[1, 1, 1, 0, 0, 0, 0, 0, 0], [1, 0, 0, 1, 1, 0, 0, 0, 0], [1, 0, 0, 1, 0, 1, 1, 1, 1]]}```"
   ]
  },
  {
   "cell_type": "code",
   "execution_count": 4,
   "metadata": {},
   "outputs": [
    {
     "name": "stdout",
     "output_type": "stream",
     "text": [
      "{'bag_of_words': ['ironhack', 'is', 'cool', 'i', 'love', 'am', 'a', 'student', 'at'], 'term_freq': [[1, 1, 1, 0, 0, 0, 0, 0, 0], [1, 0, 0, 1, 1, 0, 0, 0, 0], [1, 0, 0, 1, 0, 1, 1, 1, 1]]}\n"
     ]
    }
   ],
   "source": [
    "# Define doc paths array\n",
    "docs = ['doc1.txt', 'doc2.txt', 'doc3.txt']\n",
    "\n",
    "# Obtain BoW from your function\n",
    "bow = get_bow_from_docs(docs)\n",
    "\n",
    "# Print BoW\n",
    "print(bow)"
   ]
  },
  {
   "cell_type": "markdown",
   "metadata": {},
   "source": [
    "If your attempt above is successful, nice work done!\n",
    "\n",
    "Now test your function again with the stop words. In the previous lab we defined the stop words in a large array. In this lab, we'll import the stop words from Scikit-Learn."
   ]
  },
  {
   "cell_type": "code",
   "execution_count": 6,
   "metadata": {},
   "outputs": [
    {
     "name": "stdout",
     "output_type": "stream",
     "text": [
      "frozenset({'someone', 'now', 'full', 'several', 'thin', 'every', 'have', 'how', 'is', 'above', 'each', 'wherein', 'hundred', 'however', 'more', 'move', 'somewhere', 'after', 'otherwise', 'only', 'sincere', 'hereby', 'there', 'whereupon', 'five', 'already', 'neither', 'formerly', 'himself', 'further', 'whenever', 'former', 'whole', 'along', 'me', 'sometime', 'but', 'their', 'beyond', 'become', 'amount', 'that', 'anything', 'beside', 'six', 'within', 'whatever', 'becomes', 'whoever', 'beforehand', 'de', 'top', 'those', 'seem', 'his', 'namely', 'meanwhile', 'where', 'as', 'we', 'can', 'indeed', 'other', 'the', 'our', 'fifty', 'interest', 'who', 'over', 'thus', 'un', 'fire', 'perhaps', 'such', 'last', 'everyone', 'inc', 'please', 'must', 'until', 'since', 'mine', 'except', 'whither', 'thereafter', 'they', 'am', 'call', 'whereas', 'always', 'thru', 'upon', 'your', 'a', 'throughout', 'you', 'here', 'from', 'do', 'both', 'nobody', 'empty', 'thence', 'keep', 'still', 'others', 'on', 'her', 'any', 'forty', 'out', 'much', 'being', 'it', 'nor', 'herein', 'nowhere', 'thick', 'eight', 'least', 'same', 'enough', 'therein', 'amongst', 'was', 'front', 'whose', 'us', 'together', 'which', 'done', 'system', 'then', 'co', 'among', 'been', 'would', 'made', 'could', 'for', 'ours', 'to', 'another', 'around', 'ourselves', 'down', 'none', 'anyone', 'its', 'fifteen', 'go', 'give', 'he', 'these', 'yourself', 'my', 'thereupon', 'elsewhere', 'not', 'are', 'everywhere', 'amoungst', 'many', 'below', 'towards', 'about', 'third', 'an', 'moreover', 'hasnt', 'when', 'should', 'ltd', 'see', 'thereby', 'off', 'some', 'etc', 'one', 'bill', 'alone', 'cry', 'hers', 'during', 'mostly', 'show', 'than', 'them', 'eleven', 'couldnt', 'becoming', 'ten', 'name', 'fill', 'with', 'toward', 'seeming', 'again', 'anyhow', 'nevertheless', 'latterly', 'latter', 'found', 'con', 'once', 'she', 'were', 're', 'has', 'hereafter', 'afterwards', 'sixty', 'besides', 'although', 'what', 'anywhere', 'seems', 'between', 'before', 'serious', 'had', 'myself', 'take', 'via', 'ever', 'almost', 'cant', 'hereupon', 'herself', 'something', 'most', 'this', 'hence', 'themselves', 'few', 'all', 'somehow', 'may', 'less', 'bottom', 'by', 'get', 'why', 'at', 'through', 'either', 'part', 'back', 'of', 'well', 'whether', 'yet', 'across', 'whence', 'side', 'if', 'though', 'describe', 'yourselves', 'everything', 'or', 'anyway', 'also', 'mill', 'in', 'wherever', 'against', 'so', 'sometimes', 'else', 'under', 'might', 'due', 'without', 'find', 'and', 'onto', 'three', 'whereby', 'twelve', 'four', 'behind', 'often', 'while', 'ie', 'became', 'cannot', 'nothing', 'itself', 'because', 'therefore', 'never', 'even', 'two', 'be', 'per', 'own', 'into', 'i', 'put', 'rather', 'twenty', 'too', 'noone', 'will', 'up', 'whereafter', 'no', 'next', 'eg', 'detail', 'very', 'him', 'seemed', 'yours', 'nine', 'whom', 'first'})\n"
     ]
    }
   ],
   "source": [
    "from sklearn.feature_extraction import _stop_words\n",
    "print(_stop_words.ENGLISH_STOP_WORDS)"
   ]
  },
  {
   "cell_type": "markdown",
   "metadata": {},
   "source": [
    "You should have seen a large list of words that looks like:\n",
    "\n",
    "```frozenset({'across', 'mine', 'cannot', ...})```\n",
    "\n",
    "`frozenset` is a type of Python object that is immutable. In this lab you can use it just like an array without conversion."
   ]
  },
  {
   "cell_type": "markdown",
   "metadata": {},
   "source": [
    "Next, test your function with supplying `stop_words.ENGLISH_STOP_WORDS` as the second parameter."
   ]
  },
  {
   "cell_type": "code",
   "execution_count": 9,
   "metadata": {},
   "outputs": [
    {
     "name": "stdout",
     "output_type": "stream",
     "text": [
      "{'bag_of_words': ['ironhack', 'cool', 'love', 'student'], 'term_freq': [[1, 1, 0, 0], [1, 0, 1, 0], [1, 0, 0, 1]]}\n"
     ]
    }
   ],
   "source": [
    "bow = get_bow_from_docs(docs, _stop_words.ENGLISH_STOP_WORDS)\n",
    "\n",
    "print(bow)"
   ]
  },
  {
   "cell_type": "markdown",
   "metadata": {},
   "source": [
    "You should have seen:\n",
    "\n",
    "```{'bag_of_words': ['ironhack', 'cool', 'love', 'student'], 'term_freq': [[1, 1, 0, 0], [1, 0, 1, 0], [1, 0, 0, 1]]}```"
   ]
  },
  {
   "cell_type": "code",
   "execution_count": null,
   "metadata": {},
   "outputs": [],
   "source": []
  }
 ],
 "metadata": {
  "kernelspec": {
   "display_name": "Python 3 (ipykernel)",
   "language": "python",
   "name": "python3"
  },
  "language_info": {
   "codemirror_mode": {
    "name": "ipython",
    "version": 3
   },
   "file_extension": ".py",
   "mimetype": "text/x-python",
   "name": "python",
   "nbconvert_exporter": "python",
   "pygments_lexer": "ipython3",
   "version": "3.9.12"
  }
 },
 "nbformat": 4,
 "nbformat_minor": 2
}
